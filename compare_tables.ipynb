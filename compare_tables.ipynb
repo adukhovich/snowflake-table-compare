{
 "cells": [
  {
   "cell_type": "code",
   "execution_count": null,
   "id": "1b25d781",
   "metadata": {},
   "outputs": [],
   "source": [
    "import json\n",
    "import snowflake.connector\n",
    "from typing import List\n",
    "from datetime import datetime"
   ]
  },
  {
   "cell_type": "code",
   "execution_count": null,
   "id": "5314f8cf",
   "metadata": {},
   "outputs": [],
   "source": [
    "# Fully qualified table names\n",
    "TABLE_1 = \"DB1.SCHEMA1.TABLE1\"\n",
    "TABLE_2 = \"DB2.SCHEMA2.TABLE2\""
   ]
  },
  {
   "cell_type": "code",
   "execution_count": null,
   "id": "1ec6aaa0",
   "metadata": {},
   "outputs": [],
   "source": [
    "EXCLUDED_COLUMNS = ['METADATA_FILENAME', 'METADATA_FILE_ROW_NUMBER', '_DBT_COPIED_AT', '_FILE', '_FIVETRAN_SYNCED', '_LINE', '_MODIFIED']"
   ]
  },
  {
   "cell_type": "code",
   "execution_count": null,
   "id": "f918704e",
   "metadata": {},
   "outputs": [],
   "source": [
    "# Generate log file path with timestamp\n",
    "def create_log_file():\n",
    "    timestamp = datetime.now().strftime(\"%Y-%m-%d_%H-%M-%S\")\n",
    "    return f\"compare_log_{timestamp}.txt\""
   ]
  },
  {
   "cell_type": "code",
   "execution_count": null,
   "id": "34359ea9",
   "metadata": {},
   "outputs": [],
   "source": [
    "# Write both to console and log file\n",
    "class Logger:\n",
    "    def __init__(self, filepath):\n",
    "        self.file = open(filepath, \"w\", encoding=\"utf-8\")\n",
    "\n",
    "    def log(self, message):\n",
    "        print(message)\n",
    "        self.file.write(message + \"\\n\")\n",
    "\n",
    "    def close(self):\n",
    "        self.file.close()"
   ]
  },
  {
   "cell_type": "code",
   "execution_count": null,
   "id": "06157dc9",
   "metadata": {},
   "outputs": [],
   "source": [
    "# Load config from external JSON file\n",
    "def load_config(path='config.json'):\n",
    "    with open(path, 'r') as f:\n",
    "        return json.load(f)"
   ]
  },
  {
   "cell_type": "code",
   "execution_count": null,
   "id": "6c84df21",
   "metadata": {},
   "outputs": [],
   "source": [
    "# Connect using externalbrowser SSO\n",
    "def connect_to_snowflake(config):\n",
    "    return snowflake.connector.connect(\n",
    "        user=config[\"user\"],\n",
    "        account=config[\"account\"],\n",
    "        warehouse=config[\"warehouse\"],\n",
    "        authenticator=\"externalbrowser\"\n",
    "    )"
   ]
  },
  {
   "cell_type": "code",
   "execution_count": null,
   "id": "127e1254",
   "metadata": {},
   "outputs": [],
   "source": [
    "# Get column names for a table\n",
    "def get_columns(cursor, table_name: str, excluded: List[str]) -> List[str]:\n",
    "    cursor.execute(f\"DESC TABLE {table_name}\")\n",
    "    return [row[0] for row in cursor.fetchall() if row[0] not in excluded]"
   ]
  },
  {
   "cell_type": "code",
   "execution_count": null,
   "id": "7dc5fbe8",
   "metadata": {},
   "outputs": [],
   "source": [
    "# Count distinct values per column\n",
    "def get_distinct_counts(cursor, table_name: str, columns: List[str]) -> dict:\n",
    "    counts = {}\n",
    "    for col in columns:\n",
    "        query = f'SELECT COUNT(DISTINCT \"{col}\") FROM {table_name}'\n",
    "        cursor.execute(query)\n",
    "        counts[col] = cursor.fetchone()[0]\n",
    "    return counts"
   ]
  },
  {
   "cell_type": "code",
   "execution_count": null,
   "id": "c9fbfb28",
   "metadata": {},
   "outputs": [],
   "source": [
    "def compare_tables():\n",
    "    config = load_config()\n",
    "    log_path = create_log_file()\n",
    "    logger = Logger(log_path)\n",
    "\n",
    "    with connect_to_snowflake(config) as conn:\n",
    "        with conn.cursor() as cursor:\n",
    "            cols_1 = get_columns(cursor, TABLE_1, EXCLUDED_COLUMNS)\n",
    "            cols_2 = get_columns(cursor, TABLE_2, EXCLUDED_COLUMNS)\n",
    "\n",
    "            set_1 = set(cols_1)\n",
    "            set_2 = set(cols_2)\n",
    "\n",
    "            only_in_1 = sorted(set_1 - set_2)\n",
    "            only_in_2 = sorted(set_2 - set_1)\n",
    "            common = sorted(set_1 & set_2)\n",
    "\n",
    "            logger.log(f\"\\n🔍 Comparing tables:\")\n",
    "            logger.log(f\"    • Table 1: {TABLE_1}\")\n",
    "            logger.log(f\"    • Table 2: {TABLE_2}\\n\")\n",
    "\n",
    "            logger.log(f\"📌 Columns only in {TABLE_1}: {only_in_1 or 'None'}\")\n",
    "            logger.log(f\"📌 Columns only in {TABLE_2}: {only_in_2 or 'None'}\\n\")\n",
    "\n",
    "            logger.log(f\"📊 Distinct value comparison for {len(common)} common columns:\\n\")\n",
    "            counts_1 = get_distinct_counts(cursor, TABLE_1, common)\n",
    "            counts_2 = get_distinct_counts(cursor, TABLE_2, common)\n",
    "\n",
    "            mismatches = []\n",
    "            for col in common:\n",
    "                if counts_1[col] != counts_2[col]:\n",
    "                    mismatches.append((col, counts_1[col], counts_2[col]))\n",
    "\n",
    "            if mismatches:\n",
    "                for col, c1, c2 in mismatches:\n",
    "                    logger.log(f\"⚠️  Column '{col}': {TABLE_1} has {c1}, {TABLE_2} has {c2}\")\n",
    "                num_ok = len(common) - len(mismatches)\n",
    "                logger.log(f\"\\n✅ Remaining {num_ok} columns have matching distinct counts.\\n\")\n",
    "            else:\n",
    "                logger.log(\"\\n✅ All common columns have matching distinct counts.\\n\")\n",
    "            logger.log(f\"📝 Log saved to {log_path}\")\n",
    "\n",
    "    logger.close()"
   ]
  },
  {
   "cell_type": "code",
   "execution_count": null,
   "id": "59c218ed",
   "metadata": {},
   "outputs": [],
   "source": [
    "compare_tables()"
   ]
  }
 ],
 "metadata": {
  "kernelspec": {
   "display_name": "env",
   "language": "python",
   "name": "python3"
  },
  "language_info": {
   "codemirror_mode": {
    "name": "ipython",
    "version": 3
   },
   "file_extension": ".py",
   "mimetype": "text/x-python",
   "name": "python",
   "nbconvert_exporter": "python",
   "pygments_lexer": "ipython3",
   "version": "3.10.11"
  }
 },
 "nbformat": 4,
 "nbformat_minor": 5
}
