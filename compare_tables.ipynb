{
 "cells": [
  {
   "cell_type": "code",
   "execution_count": 25,
   "id": "1b25d781",
   "metadata": {},
   "outputs": [],
   "source": [
    "import json\n",
    "import snowflake.connector\n",
    "from typing import List\n",
    "from datetime import datetime"
   ]
  },
  {
   "cell_type": "code",
   "execution_count": 26,
   "id": "5314f8cf",
   "metadata": {},
   "outputs": [],
   "source": [
    "# Fully qualified table names\n",
    "TABLE_1 = \"FIVETRAN_RAW.SCOTTS.SCOTTS\"\n",
    "TABLE_2 = \"_CLONE_DATAOPS_PENG_8343_SNOWPIPE_RAW.SCOTTS_PIPE.SCOTTS\""
   ]
  },
  {
   "cell_type": "code",
   "execution_count": 27,
   "id": "1ec6aaa0",
   "metadata": {},
   "outputs": [],
   "source": [
    "EXCLUDED_COLUMNS = ['METADATA_FILENAME', 'METADATA_FILE_ROW_NUMBER', '_DBT_COPIED_AT', '_FILE', '_FIVETRAN_SYNCED', '_LINE', '_MODIFIED']"
   ]
  },
  {
   "cell_type": "code",
   "execution_count": 28,
   "id": "f918704e",
   "metadata": {},
   "outputs": [],
   "source": [
    "# Generate log file path with timestamp\n",
    "def create_log_file():\n",
    "    timestamp = datetime.now().strftime(\"%Y-%m-%d_%H-%M-%S\")\n",
    "    return f\"compare_log_{timestamp}.txt\""
   ]
  },
  {
   "cell_type": "code",
   "execution_count": 29,
   "id": "34359ea9",
   "metadata": {},
   "outputs": [],
   "source": [
    "# Write both to console and log file\n",
    "class Logger:\n",
    "    def __init__(self, filepath):\n",
    "        self.file = open(filepath, \"w\", encoding=\"utf-8\")\n",
    "\n",
    "    def log(self, message):\n",
    "        print(message)\n",
    "        self.file.write(message + \"\\n\")\n",
    "\n",
    "    def close(self):\n",
    "        self.file.close()"
   ]
  },
  {
   "cell_type": "code",
   "execution_count": 30,
   "id": "06157dc9",
   "metadata": {},
   "outputs": [],
   "source": [
    "# Load config from external JSON file\n",
    "def load_config(path='config.json'):\n",
    "    with open(path, 'r') as f:\n",
    "        return json.load(f)"
   ]
  },
  {
   "cell_type": "code",
   "execution_count": 31,
   "id": "6c84df21",
   "metadata": {},
   "outputs": [],
   "source": [
    "# Connect using externalbrowser SSO\n",
    "def connect_to_snowflake(config):\n",
    "    return snowflake.connector.connect(\n",
    "        user=config[\"user\"],\n",
    "        account=config[\"account\"],\n",
    "        warehouse=config[\"warehouse\"],\n",
    "        authenticator=\"externalbrowser\"\n",
    "    )"
   ]
  },
  {
   "cell_type": "code",
   "execution_count": 32,
   "id": "127e1254",
   "metadata": {},
   "outputs": [],
   "source": [
    "# Get column names for a table\n",
    "def get_columns(cursor, table_name: str, excluded: List[str]) -> List[str]:\n",
    "    cursor.execute(f\"DESC TABLE {table_name}\")\n",
    "    return [row[0] for row in cursor.fetchall() if row[0] not in excluded]"
   ]
  },
  {
   "cell_type": "code",
   "execution_count": 33,
   "id": "7dc5fbe8",
   "metadata": {},
   "outputs": [],
   "source": [
    "# Count distinct values per column\n",
    "def get_distinct_counts(cursor, table_name: str, columns: List[str]) -> dict:\n",
    "    counts = {}\n",
    "    for col in columns:\n",
    "        query = f'SELECT COUNT(DISTINCT \"{col}\") FROM {table_name}'\n",
    "        cursor.execute(query)\n",
    "        counts[col] = cursor.fetchone()[0]\n",
    "    return counts"
   ]
  },
  {
   "cell_type": "code",
   "execution_count": 34,
   "id": "c9fbfb28",
   "metadata": {},
   "outputs": [],
   "source": [
    "def compare_tables():\n",
    "    config = load_config()\n",
    "    log_path = create_log_file()\n",
    "    logger = Logger(log_path)\n",
    "\n",
    "    with connect_to_snowflake(config) as conn:\n",
    "        with conn.cursor() as cursor:\n",
    "            cols_1 = get_columns(cursor, TABLE_1, EXCLUDED_COLUMNS)\n",
    "            cols_2 = get_columns(cursor, TABLE_2, EXCLUDED_COLUMNS)\n",
    "\n",
    "            set_1 = set(cols_1)\n",
    "            set_2 = set(cols_2)\n",
    "\n",
    "            only_in_1 = sorted(set_1 - set_2)\n",
    "            only_in_2 = sorted(set_2 - set_1)\n",
    "            common = sorted(set_1 & set_2)\n",
    "\n",
    "            logger.log(f\"\\n🔍 Comparing tables:\")\n",
    "            logger.log(f\"    • Table 1: {TABLE_1}\")\n",
    "            logger.log(f\"    • Table 2: {TABLE_2}\\n\")\n",
    "\n",
    "            logger.log(f\"📌 Columns only in {TABLE_1}: {only_in_1 or 'None'}\")\n",
    "            logger.log(f\"📌 Columns only in {TABLE_2}: {only_in_2 or 'None'}\\n\")\n",
    "\n",
    "            logger.log(f\"📊 Distinct value comparison for {len(common)} common columns:\\n\")\n",
    "            counts_1 = get_distinct_counts(cursor, TABLE_1, common)\n",
    "            counts_2 = get_distinct_counts(cursor, TABLE_2, common)\n",
    "\n",
    "            mismatches = []\n",
    "            for col in common:\n",
    "                if counts_1[col] != counts_2[col]:\n",
    "                    mismatches.append((col, counts_1[col], counts_2[col]))\n",
    "\n",
    "            for col, c1, c2 in mismatches:\n",
    "                logger.log(f\"⚠️  Column '{col}': {TABLE_1} has {c1}, {TABLE_2} has {c2}\")\n",
    "\n",
    "            num_ok = len(common) - len(mismatches)\n",
    "            logger.log(f\"\\n✅ Remaining {num_ok} columns have matching distinct counts.\\n\")\n",
    "            logger.log(f\"📝 Log saved to {log_path}\")\n",
    "\n",
    "    logger.close()"
   ]
  },
  {
   "cell_type": "code",
   "execution_count": 35,
   "id": "59c218ed",
   "metadata": {},
   "outputs": [
    {
     "name": "stderr",
     "output_type": "stream",
     "text": [
      "Warning: Dependency 'keyring' is not installed, cannot cache id token. You might experience multiple authentication pop ups while using ExternalBrowser/OAuth/MFA Authenticator. To avoid this please install keyring module using the following command:\n",
      " pip install snowflake-connector-python[secure-local-storage]\n"
     ]
    },
    {
     "name": "stdout",
     "output_type": "stream",
     "text": [
      "Initiating login request with your identity provider. A browser window should have opened for you to complete the login. If you can't see it, check existing browser windows, or your OS settings. Press CTRL+C to abort and try again...\n",
      "Going to open: https://myapps.wexinc.com/app/snowflake/exkaea789nRrm6HV7357/sso/saml?SAMLRequest=pZNbb%2BIwEIX%2FSuR9TuyEAK1FqGhRt5G6XcqlSLyZZACLxA4eh8C%2FX3NbdR%2Fal31znDP%2Bzsyxew%2BHsvD2YFBqlZAwYMQDlelcqnVCZtNn%2F454aIXKRaEVJOQISB76PRRlUfFBbTdqDLsa0HruIIX89CMhtVFcC5TIlSgBuc34ZPDrlUcB4wIRjHU4ci3JUTrWxtqKU9o0TdC0Am3WNGKMUXZPneok%2BUE%2BIarvGZXRVme6uJUcXE9fIELK4hPCKRxhdC18lOoygu8oy4sI%2Bct0OvJHvydT4g1u3T1phXUJZgJmLzOYjV8vBtA5WO4E697FLKjRb9zs%2FCiojNwLC4VU2wCVblaF2EKmy6q2DhG4FV1BTgu9lm5w6TAh1VbmM%2Fv%2BvpnDmlUtvXtLF4Dz%2BjHsbNPRcL%2BojnEtzGG%2BjGH9M86I93GLOTrFnCLWkKpTuNZtsajts44ftaZhzOMWD%2BOg3WUL4g2dQamEPVfeOiiPoqowaOAgVXZ2577pX%2BMUDlsBont3r8am7Lx8dFvtLkXU9BQeudwffnZg%2Bv81lR79fNT1Xr65qNLhSBcyO3rP2pTCfp1kGITnHZn7q7OUQylkMchzA4gu0aLQzZMB5yMh1tRAaP9C%2FfcB9P8A&RelayState=ver%3A1-hint%3A14816481959673870-ETMsDgAAAZedPkoKABRBRVMvQ0JDL1BLQ1M1UGFkZGluZwEAABAAEDuJaBGmd0lvbigvFZgPEPkAAACgVghn1zkWCz4wWZNGnRTFRGf%2BXeqWbniLVgGY48ZOFwCTOxEKbmXmUfjxz2DWo%2FE0pahuiFchoWPrDeTGBORWhtxBZyIxoykDcr1s53wlfFiIWHPRlk0qxzvrjbNcP29lfQ%2BwRuHS2E6mMxOKzVXLopFyr8Wsc%2BvCVraH4Zz190KNMRSupGvRdqafIFkVrULsFv31lDgQicqOYqKfZzQ49wAUXbgv8wUzeI1PlNRr0MXGyZhIixk%3D to authenticate...\n"
     ]
    },
    {
     "name": "stderr",
     "output_type": "stream",
     "text": [
      "Warning: Dependency 'keyring' is not installed, cannot cache id token. You might experience multiple authentication pop ups while using ExternalBrowser/OAuth/MFA Authenticator. To avoid this please install keyring module using the following command:\n",
      " pip install snowflake-connector-python[secure-local-storage]\n"
     ]
    },
    {
     "name": "stdout",
     "output_type": "stream",
     "text": [
      "\n",
      "🔍 Comparing tables:\n",
      "    • Table 1: FIVETRAN_RAW.SCOTTS.SCOTTS\n",
      "    • Table 2: _CLONE_DATAOPS_PENG_8343_SNOWPIPE_RAW.SCOTTS_PIPE.SCOTTS\n",
      "\n",
      "📌 Columns only in FIVETRAN_RAW.SCOTTS.SCOTTS: ['EMPLOYMENT', 'HEAD_OFFICE_STATUS', 'HO_ADDRESS_1', 'HO_ADDRESS_2', 'HO_CITY', 'HO_COUNTRY', 'HO_NAME', 'HO_POSTAL_CODE', 'HO_PROVINCE', 'LOCATION_ADDRESS_1', 'LOCATION_ADDRESS_2', 'PARENT_COMPANY_ADDRESS_1', 'PARENT_COMPANY_ADDRESS_2', 'SCOTTS_ID', 'SCOTT_S_ID', 'WEB_SITE']\n",
      "📌 Columns only in _CLONE_DATAOPS_PENG_8343_SNOWPIPE_RAW.SCOTTS_PIPE.SCOTTS: ['SCOTTSID']\n",
      "\n",
      "📊 Distinct value comparison for 118 common columns:\n",
      "\n",
      "⚠️  Column 'BUSINESS_TYPE_2': FIVETRAN_RAW.SCOTTS.SCOTTS has 25, _CLONE_DATAOPS_PENG_8343_SNOWPIPE_RAW.SCOTTS_PIPE.SCOTTS has 26\n",
      "⚠️  Column 'BUSINESS_TYPE_3': FIVETRAN_RAW.SCOTTS.SCOTTS has 18, _CLONE_DATAOPS_PENG_8343_SNOWPIPE_RAW.SCOTTS_PIPE.SCOTTS has 21\n",
      "⚠️  Column 'EMPLOYEE_COUNT': FIVETRAN_RAW.SCOTTS.SCOTTS has 555, _CLONE_DATAOPS_PENG_8343_SNOWPIPE_RAW.SCOTTS_PIPE.SCOTTS has 556\n",
      "⚠️  Column 'ESTIMATED_SALES': FIVETRAN_RAW.SCOTTS.SCOTTS has 9, _CLONE_DATAOPS_PENG_8343_SNOWPIPE_RAW.SCOTTS_PIPE.SCOTTS has 11\n",
      "⚠️  Column 'FAX': FIVETRAN_RAW.SCOTTS.SCOTTS has 44474, _CLONE_DATAOPS_PENG_8343_SNOWPIPE_RAW.SCOTTS_PIPE.SCOTTS has 44473\n",
      "⚠️  Column 'FUNCTION_10': FIVETRAN_RAW.SCOTTS.SCOTTS has 0, _CLONE_DATAOPS_PENG_8343_SNOWPIPE_RAW.SCOTTS_PIPE.SCOTTS has 2\n",
      "⚠️  Column 'GEOCODED_BY': FIVETRAN_RAW.SCOTTS.SCOTTS has 1, _CLONE_DATAOPS_PENG_8343_SNOWPIPE_RAW.SCOTTS_PIPE.SCOTTS has 3\n",
      "⚠️  Column 'HEAD_OFFICE_ADDRESS_LINE_1': FIVETRAN_RAW.SCOTTS.SCOTTS has 3595, _CLONE_DATAOPS_PENG_8343_SNOWPIPE_RAW.SCOTTS_PIPE.SCOTTS has 3593\n",
      "⚠️  Column 'HEAD_OFFICE_ADDRESS_LINE_2': FIVETRAN_RAW.SCOTTS.SCOTTS has 53, _CLONE_DATAOPS_PENG_8343_SNOWPIPE_RAW.SCOTTS_PIPE.SCOTTS has 55\n",
      "⚠️  Column 'HEAD_OFFICE_CITY': FIVETRAN_RAW.SCOTTS.SCOTTS has 763, _CLONE_DATAOPS_PENG_8343_SNOWPIPE_RAW.SCOTTS_PIPE.SCOTTS has 764\n",
      "⚠️  Column 'HEAD_OFFICE_COUNTRY': FIVETRAN_RAW.SCOTTS.SCOTTS has 10, _CLONE_DATAOPS_PENG_8343_SNOWPIPE_RAW.SCOTTS_PIPE.SCOTTS has 14\n",
      "⚠️  Column 'HEAD_OFFICE_NAME': FIVETRAN_RAW.SCOTTS.SCOTTS has 4146, _CLONE_DATAOPS_PENG_8343_SNOWPIPE_RAW.SCOTTS_PIPE.SCOTTS has 4147\n",
      "⚠️  Column 'HEAD_OFFICE_POSTAL_CODE': FIVETRAN_RAW.SCOTTS.SCOTTS has 3420, _CLONE_DATAOPS_PENG_8343_SNOWPIPE_RAW.SCOTTS_PIPE.SCOTTS has 3421\n",
      "⚠️  Column 'HEAD_OFFICE_PROVINCE': FIVETRAN_RAW.SCOTTS.SCOTTS has 46, _CLONE_DATAOPS_PENG_8343_SNOWPIPE_RAW.SCOTTS_PIPE.SCOTTS has 48\n",
      "⚠️  Column 'LONGITUDE': FIVETRAN_RAW.SCOTTS.SCOTTS has 108658, _CLONE_DATAOPS_PENG_8343_SNOWPIPE_RAW.SCOTTS_PIPE.SCOTTS has 108656\n",
      "⚠️  Column 'NAICS_CODE_4': FIVETRAN_RAW.SCOTTS.SCOTTS has 702, _CLONE_DATAOPS_PENG_8343_SNOWPIPE_RAW.SCOTTS_PIPE.SCOTTS has 703\n",
      "⚠️  Column 'NAICS_CODE_5': FIVETRAN_RAW.SCOTTS.SCOTTS has 663, _CLONE_DATAOPS_PENG_8343_SNOWPIPE_RAW.SCOTTS_PIPE.SCOTTS has 664\n",
      "⚠️  Column 'PRIMARY_NAICS_DESCRIPTION': FIVETRAN_RAW.SCOTTS.SCOTTS has 876, _CLONE_DATAOPS_PENG_8343_SNOWPIPE_RAW.SCOTTS_PIPE.SCOTTS has 879\n",
      "⚠️  Column 'PRODUCT_CATEGORY_1': FIVETRAN_RAW.SCOTTS.SCOTTS has 8072, _CLONE_DATAOPS_PENG_8343_SNOWPIPE_RAW.SCOTTS_PIPE.SCOTTS has 8073\n",
      "⚠️  Column 'PRODUCT_CATEGORY_3': FIVETRAN_RAW.SCOTTS.SCOTTS has 10016, _CLONE_DATAOPS_PENG_8343_SNOWPIPE_RAW.SCOTTS_PIPE.SCOTTS has 10017\n",
      "⚠️  Column 'PRODUCT_CATEGORY_4': FIVETRAN_RAW.SCOTTS.SCOTTS has 8870, _CLONE_DATAOPS_PENG_8343_SNOWPIPE_RAW.SCOTTS_PIPE.SCOTTS has 8869\n",
      "⚠️  Column 'PRODUCT_CATEGORY_6': FIVETRAN_RAW.SCOTTS.SCOTTS has 6855, _CLONE_DATAOPS_PENG_8343_SNOWPIPE_RAW.SCOTTS_PIPE.SCOTTS has 6854\n",
      "⚠️  Column 'PRODUCT_CATEGORY_7': FIVETRAN_RAW.SCOTTS.SCOTTS has 6114, _CLONE_DATAOPS_PENG_8343_SNOWPIPE_RAW.SCOTTS_PIPE.SCOTTS has 6115\n",
      "⚠️  Column 'PRODUCT_CATEGORY_8': FIVETRAN_RAW.SCOTTS.SCOTTS has 5312, _CLONE_DATAOPS_PENG_8343_SNOWPIPE_RAW.SCOTTS_PIPE.SCOTTS has 5313\n",
      "⚠️  Column 'SALUTATION_1': FIVETRAN_RAW.SCOTTS.SCOTTS has 7, _CLONE_DATAOPS_PENG_8343_SNOWPIPE_RAW.SCOTTS_PIPE.SCOTTS has 9\n",
      "⚠️  Column 'SQUARE_FOOTAGE': FIVETRAN_RAW.SCOTTS.SCOTTS has 1049, _CLONE_DATAOPS_PENG_8343_SNOWPIPE_RAW.SCOTTS_PIPE.SCOTTS has 1052\n",
      "⚠️  Column 'WEBSITE': FIVETRAN_RAW.SCOTTS.SCOTTS has 82963, _CLONE_DATAOPS_PENG_8343_SNOWPIPE_RAW.SCOTTS_PIPE.SCOTTS has 82967\n",
      "\n",
      "✅ Remaining 91 columns have matching distinct counts.\n",
      "\n",
      "📝 Log saved to compare_log_2025-06-23_10-43-13.txt\n"
     ]
    }
   ],
   "source": [
    "compare_tables()"
   ]
  },
  {
   "cell_type": "code",
   "execution_count": null,
   "id": "79079ae5",
   "metadata": {},
   "outputs": [],
   "source": []
  },
  {
   "cell_type": "code",
   "execution_count": null,
   "id": "4586439b",
   "metadata": {},
   "outputs": [],
   "source": []
  }
 ],
 "metadata": {
  "kernelspec": {
   "display_name": "env",
   "language": "python",
   "name": "python3"
  },
  "language_info": {
   "codemirror_mode": {
    "name": "ipython",
    "version": 3
   },
   "file_extension": ".py",
   "mimetype": "text/x-python",
   "name": "python",
   "nbconvert_exporter": "python",
   "pygments_lexer": "ipython3",
   "version": "3.10.11"
  }
 },
 "nbformat": 4,
 "nbformat_minor": 5
}
