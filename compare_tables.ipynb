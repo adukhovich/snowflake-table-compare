{
 "cells": [
  {
   "cell_type": "code",
   "execution_count": null,
   "id": "1b25d781",
   "metadata": {},
   "outputs": [],
   "source": [
    "import json\n",
    "import snowflake.connector\n",
    "from typing import List\n",
    "from datetime import datetime"
   ]
  },
  {
   "cell_type": "code",
   "execution_count": null,
   "metadata": {},
   "outputs": [],
   "source": [
    "CONFIG_PATH = 'config.json'"
   ]
  },
  {
   "cell_type": "code",
   "execution_count": null,
   "id": "5314f8cf",
   "metadata": {},
   "outputs": [],
   "source": [
    "# Fully qualified table names\n",
    "TABLE_1 = \"DB1.SCHEMA1.TABLE1\"\n",
    "TABLE_2 = \"DB2.SCHEMA2.TABLE2\""
   ]
  },
  {
   "cell_type": "code",
   "execution_count": null,
   "id": "1ec6aaa0",
   "metadata": {},
   "outputs": [],
   "source": [
    "EXCLUDED_COLUMNS = ['METADATA_FILENAME', 'METADATA_FILE_ROW_NUMBER', '_DBT_COPIED_AT', '_FILE', '_FIVETRAN_SYNCED', '_LINE', '_MODIFIED']"
   ]
  },
  {
   "cell_type": "code",
   "execution_count": null,
   "id": "34359ea9",
   "metadata": {},
   "outputs": [],
   "source": [
    "# Logger with buffered writing\n",
    "class Logger:\n",
    "    def __init__(self, filepath):\n",
    "        self.filepath = filepath\n",
    "        self.buffer = []\n",
    "\n",
    "    def log(self, message):\n",
    "        print(message)\n",
    "        self.buffer.append(message + \"\\n\")\n",
    "\n",
    "    def close(self):\n",
    "        with open(self.filepath, \"w\", encoding=\"utf-8\") as f:\n",
    "            f.writelines(self.buffer)"
   ]
  },
  {
   "cell_type": "code",
   "execution_count": null,
   "id": "06157dc9",
   "metadata": {},
   "outputs": [],
   "source": [
    "def create_log_file():\n",
    "    timestamp = datetime.now().strftime(\"%Y-%m-%d_%H-%M-%S\")\n",
    "    return f\"compare_log_{timestamp}.txt\""
   ]
  },
  {
   "cell_type": "code",
   "execution_count": null,
   "metadata": {},
   "outputs": [],
   "source": [
    "def load_config(path=CONFIG_PATH):\n",
    "    with open(path, 'r') as f:\n",
    "        return json.load(f)"
   ]
  },
  {
   "cell_type": "code",
   "execution_count": null,
   "id": "6c84df21",
   "metadata": {},
   "outputs": [],
   "source": [
    "def connect_to_snowflake(config):\n",
    "    return snowflake.connector.connect(\n",
    "        user=config[\"user\"],\n",
    "        account=config[\"account\"],\n",
    "        warehouse=config[\"warehouse\"],\n",
    "        authenticator=\"externalbrowser\"\n",
    "    )"
   ]
  },
  {
   "cell_type": "code",
   "execution_count": null,
   "id": "127e1254",
   "metadata": {},
   "outputs": [],
   "source": [
    "def get_columns(cursor, table_name: str, excluded: List[str]) -> List[str]:\n",
    "    cursor.execute(f\"DESC TABLE {table_name}\")\n",
    "    return [row[0] for row in cursor.fetchall() if row[0] not in excluded]"
   ]
  },
  {
   "cell_type": "code",
   "execution_count": null,
   "id": "7dc5fbe8",
   "metadata": {},
   "outputs": [],
   "source": [
    "def get_value_counts(cursor, table_name: str, column: str) -> dict:\n",
    "    query = f'SELECT CAST(\"{column}\" AS STRING), COUNT(*) FROM {table_name} GROUP BY \"{column}\"'\n",
    "    cursor.execute(query)\n",
    "    return {row[0]: row[1] for row in cursor.fetchall()}"
   ]
  },
  {
   "cell_type": "code",
   "execution_count": null,
   "id": "c9fbfb28",
   "metadata": {},
   "outputs": [],
   "source": [
    "def compare_tables():\n",
    "    config = load_config()\n",
    "    log_path = create_log_file()\n",
    "    logger = Logger(log_path)\n",
    "\n",
    "    with connect_to_snowflake(config) as conn:\n",
    "        with conn.cursor() as cursor:\n",
    "            logger.log(f\"\\n🔍 Comparing tables:\")\n",
    "            logger.log(f\"    • Table 1: {TABLE_1}\")\n",
    "            logger.log(f\"    • Table 2: {TABLE_2}\\n\")\n",
    "\n",
    "            # Row count comparison\n",
    "            cursor.execute(f\"SELECT COUNT(*) FROM {TABLE_1}\")\n",
    "            row_count_1 = cursor.fetchone()[0]\n",
    "            cursor.execute(f\"SELECT COUNT(*) FROM {TABLE_2}\")\n",
    "            row_count_2 = cursor.fetchone()[0]\n",
    "            logger.log(f\"🔢 Row count in {TABLE_1}: {row_count_1}\")\n",
    "            logger.log(f\"🔢 Row count in {TABLE_2}: {row_count_2}\")\n",
    "            if row_count_1 != row_count_2:\n",
    "                logger.log(\"❌ Tables do NOT have the same number of rows.\\n\")\n",
    "            else:\n",
    "                logger.log(\"✅ Both tables have the same number of rows.\\n\")\n",
    "\n",
    "            # Column comparison\n",
    "            cols_1 = get_columns(cursor, TABLE_1, EXCLUDED_COLUMNS)\n",
    "            cols_2 = get_columns(cursor, TABLE_2, EXCLUDED_COLUMNS)\n",
    "\n",
    "            set_1, set_2 = set(cols_1), set(cols_2)\n",
    "            only_in_1 = sorted(set_1 - set_2)\n",
    "            only_in_2 = sorted(set_2 - set_1)\n",
    "            common = sorted(set_1 & set_2)\n",
    "\n",
    "            logger.log(f\"📌 Columns only in {TABLE_1}: {only_in_1 or 'None'}\")\n",
    "            logger.log(f\"📌 Columns only in {TABLE_2}: {only_in_2 or 'None'}\\n\")\n",
    "\n",
    "            # Value comparison for common columns\n",
    "            logger.log(f\"\\n🔬 Value-level comparison for {len(common)} common columns:\")\n",
    "            for col in common:\n",
    "                value_counts_1 = get_value_counts(cursor, TABLE_1, col)\n",
    "                value_counts_2 = get_value_counts(cursor, TABLE_2, col)\n",
    "\n",
    "                keys_1 = set(value_counts_1)\n",
    "                keys_2 = set(value_counts_2)\n",
    "\n",
    "                missing_in_2 = sorted(keys_1 - keys_2)\n",
    "                missing_in_1 = sorted(keys_2 - keys_1)\n",
    "\n",
    "                if missing_in_2:\n",
    "                    logger.log(f\"⚠️  Values in {TABLE_1}.{col} but not in {TABLE_2}: {missing_in_2}\")\n",
    "                if missing_in_1:\n",
    "                    logger.log(f\"⚠️  Values in {TABLE_2}.{col} but not in {TABLE_1}: {missing_in_1}\")\n",
    "\n",
    "                # Count mismatches\n",
    "                shared = keys_1 & keys_2\n",
    "                count_mismatches = [(v, value_counts_1[v], value_counts_2[v])\n",
    "                                    for v in shared if value_counts_1[v] != value_counts_2[v]]\n",
    "                if count_mismatches:\n",
    "                    logger.log(f\"⚠️  Count mismatches for column '{col}':\")\n",
    "                    for v, c1, c2 in count_mismatches:\n",
    "                        logger.log(f\"    Value '{v}': {TABLE_1} has {c1}, {TABLE_2} has {c2}\")\n",
    "                if not (missing_in_1 or missing_in_2 or count_mismatches):\n",
    "                    logger.log(f\"✅ All values and counts match for column '{col}'.\")\n",
    "\n",
    "            logger.log(f\"\\n📝 Log saved to {log_path}\")\n",
    "            logger.close()"
   ]
  },
  {
   "cell_type": "code",
   "execution_count": null,
   "id": "59c218ed",
   "metadata": {},
   "outputs": [],
   "source": [
    "compare_tables()"
   ]
  }
 ],
 "metadata": {
  "kernelspec": {
   "display_name": "env",
   "language": "python",
   "name": "python3"
  },
  "language_info": {
   "codemirror_mode": {
    "name": "ipython",
    "version": 3
   },
   "file_extension": ".py",
   "mimetype": "text/x-python",
   "name": "python",
   "nbconvert_exporter": "python",
   "pygments_lexer": "ipython3",
   "version": "3.10.11"
  }
 },
 "nbformat": 4,
 "nbformat_minor": 5
}
